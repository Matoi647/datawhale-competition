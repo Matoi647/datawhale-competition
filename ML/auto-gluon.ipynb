{
 "cells": [
  {
   "cell_type": "code",
   "execution_count": null,
   "id": "b42c49eb",
   "metadata": {
    "ExecuteTime": {
     "start_time": "2023-08-12T07:53:17.752Z"
    }
   },
   "outputs": [],
   "source": [
    "%pip install autogluon -i https://pypi.tuna.tsinghua.edu.cn/simple/ --trusted-host pypi.tuna.tsinghua.edu.cn"
   ]
  },
  {
   "cell_type": "code",
   "execution_count": null,
   "id": "4aa5987a",
   "metadata": {},
   "outputs": [],
   "source": [
    "import numpy as np  \n",
    "from autogluon.tabular  import TabularDataset,TabularPredictor\n",
    "import pandas as pd"
   ]
  }
 ],
 "metadata": {
  "kernelspec": {
   "display_name": "Python 3 (ipykernel)",
   "language": "python",
   "name": "python3"
  }
 },
 "nbformat": 4,
 "nbformat_minor": 5
}
